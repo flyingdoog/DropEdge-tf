{
 "cells": [
  {
   "cell_type": "markdown",
   "metadata": {},
   "source": [
    "# on Conductance and DropEdge\n",
    "## Notations and Priliminary\n",
    "* A graph: $G=(V,E)$\n",
    "* Adacency matrix $\\mathbf{A}$ with entry $a_{ij}$.\n",
    "* The conductance of a cut $(S,\\bar{S})$ in a graph: $\\varphi(S) = \\frac{\\sum_{i\\in S, j\\in \\bar{S}} a_{ij}}{min(a(S), a(\\bar{S}))}$, where $a(S)=\\sum_{i\\in S}\\sum_{j\\in V} a_{ij}$\n",
    "* The conductance of a graph $\\phi(G)=\\text{min}_{S\\subseteq V}\\varphi(S)$"
   ]
  },
  {
   "cell_type": "code",
   "execution_count": 15,
   "metadata": {},
   "outputs": [],
   "source": [
    "# S is a set of node\n",
    "def get_conductance(S,adj_list):\n",
    "    if len(S)==0 or len(S)==len(adj_list):\n",
    "        return -1\n",
    "    sset = set(S)\n",
    "    #a(s)\n",
    "    a_s = sum([len(adj_list[s]) for s in S])\n",
    "    a_hat_s = sum([len(adj_list[s]) for s in adj_list])-a_s\n",
    "\n",
    "    #cross graph edges\n",
    "    ss = 0\n",
    "    for s in S:\n",
    "        nbs = adj_list[s]\n",
    "        for nb in nbs:\n",
    "            if not nb in sset:\n",
    "                ss +=1\n",
    "    \n",
    "    min_as_ahats = min(a_s,a_hat_s)\n",
    "#     print(ss)\n",
    "#     print(min_as_ahats)\n",
    "    return ss/min_as_ahats\n",
    "    "
   ]
  },
  {
   "cell_type": "markdown",
   "metadata": {},
   "source": []
  },
  {
   "cell_type": "code",
   "execution_count": 19,
   "metadata": {},
   "outputs": [],
   "source": [
    "# def test()\n",
    "V = [0,1,2,3,4,5]\n",
    "adj_list = {}\n",
    "adj_list[0]=[1,2,3]\n",
    "adj_list[1]=[0,2]\n",
    "adj_list[2]=[0,1]\n",
    "adj_list[3]=[0,4,5]\n",
    "adj_list[4]=[3,5]\n",
    "adj_list[5]=[3,4]\n",
    "S = [0,1,2]\n"
   ]
  },
  {
   "cell_type": "code",
   "execution_count": 20,
   "metadata": {},
   "outputs": [
    {
     "name": "stdout",
     "output_type": "stream",
     "text": [
      "0.14285714285714285\n"
     ]
    }
   ],
   "source": [
    "import itertools\n",
    "min_con = 1.01\n",
    "for size in range(1,int(len(V)/2)+1):\n",
    "    for S in list(itertools.combinations(V, size)):\n",
    "        con = get_conductance(S,adj_list)\n",
    "        if con < min_con:\n",
    "            min_con = con\n",
    "print(min_con)\n",
    "        "
   ]
  },
  {
   "cell_type": "markdown",
   "metadata": {},
   "source": [
    "The conductance of $G$ is 0.1428. Now we remove a edge (4,5)"
   ]
  },
  {
   "cell_type": "code",
   "execution_count": 21,
   "metadata": {},
   "outputs": [
    {
     "name": "stdout",
     "output_type": "stream",
     "text": [
      "0.2\n"
     ]
    }
   ],
   "source": [
    "adj_list[4]=[3]\n",
    "adj_list[5]=[3]\n",
    "\n",
    "min_con = 1.01\n",
    "for size in range(1,int(len(V)/2)+1):\n",
    "    for S in list(itertools.combinations(V, size)):\n",
    "        con = get_conductance(S,adj_list)\n",
    "        if con < min_con:\n",
    "            min_con = con\n",
    "print(min_con)\n"
   ]
  },
  {
   "cell_type": "markdown",
   "metadata": {},
   "source": [
    "By removing an edge, the condactance increase to 0.2."
   ]
  }
 ],
 "metadata": {
  "kernelspec": {
   "display_name": "Python 3",
   "language": "python",
   "name": "python3"
  },
  "language_info": {
   "codemirror_mode": {
    "name": "ipython",
    "version": 3
   },
   "file_extension": ".py",
   "mimetype": "text/x-python",
   "name": "python",
   "nbconvert_exporter": "python",
   "pygments_lexer": "ipython3",
   "version": "3.7.3"
  }
 },
 "nbformat": 4,
 "nbformat_minor": 2
}
